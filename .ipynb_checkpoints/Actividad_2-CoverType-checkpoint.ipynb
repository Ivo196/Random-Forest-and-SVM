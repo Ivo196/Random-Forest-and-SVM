{
 "cells": [
  {
   "attachments": {
    "image.png": {
     "image/png": "[encoded data removed]"
    }
   },
   "cell_type": "markdown",
   "id": "d527775b",
   "metadata": {},
   "source": [
    "![image.png](attachment:image.png)\n",
    "\n",
    "_Aprendizaje Automático_\n",
    "\n",
    "_Máster Universitario en Inteligencia Artificial_\n",
    "\n",
    "# Actividad: Clasificación con máquinas de vectores de soporte y random forest\n",
    "\n",
    "## Objetivos\n",
    "\n",
    "Mediante esta actividad se pretende que ponga en práctica la creación de modelos basados en máquinas de vector de soporte y random forest. El objetivo es comprender de forma práctica con un problema determinado las diferencias que existen a la hora de entrenar los diferentes modelos.\n",
    "\n",
    "- Comprender el tratamiento de datos que hay que realizar para los modelos de clasificación.\n",
    "- Entender y aplicar el algoritmo de Random Forest a un problema de clasificación.\n",
    "- Entender y aplicar el algoritmo de Support Vector Machine a un problema de clasificación.\n",
    "- Evaluar y analizar los resultados de los clasificadores.\n",
    "- Investigar la aplicación de los modelos de clasificación a problemas reales.\n",
    "\n",
    "\n",
    "## Descripción de la actividad\n",
    "\n",
    "Debes completar los espacios indicados en el notebook con el código solicitado y la respuesta, en función de lo que se solicite. Ten encuenta que las celdas vacías indican cuántas líneas debe ocupar la respuesta, por lo general no más de una línea.\n",
    "\n",
    "El conjunto de datos con el que vamos a trabajar se encuentra en el siguiente enlace: https://archive.ics.uci.edu/dataset/31/covertype\n",
    "\n",
    "Este dataset ha sido generado para predecir el tipo de cubierta forestal únicamente a partir de variables cartográficas (sin datos de sensores remotos). El tipo de cubierta forestal real para una observación determinada (celda de 30 x 30 metros) se determinó a partir de los datos del Sistema de información de recursos (RIS) de la Región 2 del Servicio Forestal de EE. UU. (USFS). Las variables independientes se derivaron de datos obtenidos originalmente del Servicio Geológico de EE. UU. (USGS) y de datos del USFS. Los datos están en forma original (no escalados) y contienen columnas binarias (0 o 1) de datos para variables cualitativas independientes (áreas silvestres y tipos de suelo).\n",
    "Para ampliar información sobre el dataset y su origen, recomendamos leer la descripción completa del dataset en el enlace del repositorio. l.\n",
    "\n",
    "El objetivo de la clasificación será detectar el tipo de suelo.\n",
    "\n",
    "### Tareas que se deben realizar\n",
    "\n",
    "- Análisis descriptivo de los datos:\n",
    "   - Debe completarse el código solicitado y responder a las preguntas. Todo ello en el notebook dado como base.\n",
    "- Clasificación:\n",
    "  - Debe completarse el código solicitado y responder a las preguntas. Todo ello en el notebook dado como base.\n",
    "- Investigación:\n",
    "  - Buscar un artículo científico (https://scholar.google.es/) con un caso de uso de clasificación empleando una de las dos técnicas (o ambas) vistas en la actividad. Los artículos deben estar en revistas científicas, y deben ser posteriores a 2015. No debe utilizar técnicas de Deep Learning.\n",
    "  - Para el artículo indicar:\n",
    "    - Objetivo: cuál es el objetivo de la investigación, es decir a qué problema real está aplicando la clasificación.\n",
    "    - Cómo utilizan las técnicas de clasificación, si realizan alguna adaptación de los algoritmos indicarse.\n",
    "    - Principales resultados de la aplicación y de la investigación.\n"
   ]
  },
  {
   "cell_type": "markdown",
   "id": "c399e1d6",
   "metadata": {},
   "source": [
    "### Análisis descriptivo de los datos"
   ]
  },
  {
   "cell_type": "code",
   "execution_count": 1,
   "id": "ed8056a1",
   "metadata": {},
   "outputs": [
    {
     "name": "stdout",
     "output_type": "stream",
     "text": [
      "Directorio actual: C:\\Users\\ivoto\\Documents\\Ivo\\Repositories\\Random Forest and SVM\n",
      "Archivos en el directorio actual: ['.git', '.ipynb_checkpoints', 'Actividad_2-CoverType.ipynb', 'covertype', 'mia05_act.docx']\n"
     ]
    }
   ],
   "source": [
    "import numpy as np\n",
    "import pandas as pd\n",
    "from matplotlib import pyplot as plt\n",
    "import seaborn as sns\n",
    "import os\n",
    "print(\"Directorio actual:\", os.getcwd())\n",
    "print(\"Archivos en el directorio actual:\", os.listdir())"
   ]
  },
  {
   "cell_type": "code",
   "execution_count": 2,
   "id": "9c732dd7",
   "metadata": {},
   "outputs": [
    {
     "data": {
      "text/html": [
       "<div>\n",
       "<style scoped>\n",
       "    .dataframe tbody tr th:only-of-type {\n",
       "        vertical-align: middle;\n",
       "    }\n",
       "\n",
       "    .dataframe tbody tr th {\n",
       "        vertical-align: top;\n",
       "    }\n",
       "\n",
       "    .dataframe thead th {\n",
       "        text-align: right;\n",
       "    }\n",
       "</style>\n",
       "<table border=\"1\" class=\"dataframe\">\n",
       "  <thead>\n",
       "    <tr style=\"text-align: right;\">\n",
       "      <th></th>\n",
       "      <th>Elevation</th>\n",
       "      <th>Aspect</th>\n",
       "      <th>Slope</th>\n",
       "      <th>Horizontal_Distance_To_Hydrology</th>\n",
       "      <th>Vertical_Distance_To_Hydrology</th>\n",
       "      <th>Horizontal_Distance_To_Roadways</th>\n",
       "      <th>Hillshade_9am</th>\n",
       "      <th>Hillshade_Noon</th>\n",
       "      <th>Hillshade_3pm</th>\n",
       "      <th>Horizontal_Distance_To_Fire_Points</th>\n",
       "      <th>...</th>\n",
       "      <th>Soil_Type32</th>\n",
       "      <th>Soil_Type33</th>\n",
       "      <th>Soil_Type34</th>\n",
       "      <th>Soil_Type35</th>\n",
       "      <th>Soil_Type36</th>\n",
       "      <th>Soil_Type37</th>\n",
       "      <th>Soil_Type38</th>\n",
       "      <th>Soil_Type39</th>\n",
       "      <th>Soil_Type40</th>\n",
       "      <th>Cover_Type</th>\n",
       "    </tr>\n",
       "  </thead>\n",
       "  <tbody>\n",
       "    <tr>\n",
       "      <th>0</th>\n",
       "      <td>2596</td>\n",
       "      <td>51</td>\n",
       "      <td>3</td>\n",
       "      <td>258</td>\n",
       "      <td>0</td>\n",
       "      <td>510</td>\n",
       "      <td>221</td>\n",
       "      <td>232</td>\n",
       "      <td>148</td>\n",
       "      <td>6279</td>\n",
       "      <td>...</td>\n",
       "      <td>0</td>\n",
       "      <td>0</td>\n",
       "      <td>0</td>\n",
       "      <td>0</td>\n",
       "      <td>0</td>\n",
       "      <td>0</td>\n",
       "      <td>0</td>\n",
       "      <td>0</td>\n",
       "      <td>0</td>\n",
       "      <td>5</td>\n",
       "    </tr>\n",
       "    <tr>\n",
       "      <th>1</th>\n",
       "      <td>2590</td>\n",
       "      <td>56</td>\n",
       "      <td>2</td>\n",
       "      <td>212</td>\n",
       "      <td>-6</td>\n",
       "      <td>390</td>\n",
       "      <td>220</td>\n",
       "      <td>235</td>\n",
       "      <td>151</td>\n",
       "      <td>6225</td>\n",
       "      <td>...</td>\n",
       "      <td>0</td>\n",
       "      <td>0</td>\n",
       "      <td>0</td>\n",
       "      <td>0</td>\n",
       "      <td>0</td>\n",
       "      <td>0</td>\n",
       "      <td>0</td>\n",
       "      <td>0</td>\n",
       "      <td>0</td>\n",
       "      <td>5</td>\n",
       "    </tr>\n",
       "    <tr>\n",
       "      <th>2</th>\n",
       "      <td>2804</td>\n",
       "      <td>139</td>\n",
       "      <td>9</td>\n",
       "      <td>268</td>\n",
       "      <td>65</td>\n",
       "      <td>3180</td>\n",
       "      <td>234</td>\n",
       "      <td>238</td>\n",
       "      <td>135</td>\n",
       "      <td>6121</td>\n",
       "      <td>...</td>\n",
       "      <td>0</td>\n",
       "      <td>0</td>\n",
       "      <td>0</td>\n",
       "      <td>0</td>\n",
       "      <td>0</td>\n",
       "      <td>0</td>\n",
       "      <td>0</td>\n",
       "      <td>0</td>\n",
       "      <td>0</td>\n",
       "      <td>2</td>\n",
       "    </tr>\n",
       "    <tr>\n",
       "      <th>3</th>\n",
       "      <td>2785</td>\n",
       "      <td>155</td>\n",
       "      <td>18</td>\n",
       "      <td>242</td>\n",
       "      <td>118</td>\n",
       "      <td>3090</td>\n",
       "      <td>238</td>\n",
       "      <td>238</td>\n",
       "      <td>122</td>\n",
       "      <td>6211</td>\n",
       "      <td>...</td>\n",
       "      <td>0</td>\n",
       "      <td>0</td>\n",
       "      <td>0</td>\n",
       "      <td>0</td>\n",
       "      <td>0</td>\n",
       "      <td>0</td>\n",
       "      <td>0</td>\n",
       "      <td>0</td>\n",
       "      <td>0</td>\n",
       "      <td>2</td>\n",
       "    </tr>\n",
       "    <tr>\n",
       "      <th>4</th>\n",
       "      <td>2595</td>\n",
       "      <td>45</td>\n",
       "      <td>2</td>\n",
       "      <td>153</td>\n",
       "      <td>-1</td>\n",
       "      <td>391</td>\n",
       "      <td>220</td>\n",
       "      <td>234</td>\n",
       "      <td>150</td>\n",
       "      <td>6172</td>\n",
       "      <td>...</td>\n",
       "      <td>0</td>\n",
       "      <td>0</td>\n",
       "      <td>0</td>\n",
       "      <td>0</td>\n",
       "      <td>0</td>\n",
       "      <td>0</td>\n",
       "      <td>0</td>\n",
       "      <td>0</td>\n",
       "      <td>0</td>\n",
       "      <td>5</td>\n",
       "    </tr>\n",
       "    <tr>\n",
       "      <th>...</th>\n",
       "      <td>...</td>\n",
       "      <td>...</td>\n",
       "      <td>...</td>\n",
       "      <td>...</td>\n",
       "      <td>...</td>\n",
       "      <td>...</td>\n",
       "      <td>...</td>\n",
       "      <td>...</td>\n",
       "      <td>...</td>\n",
       "      <td>...</td>\n",
       "      <td>...</td>\n",
       "      <td>...</td>\n",
       "      <td>...</td>\n",
       "      <td>...</td>\n",
       "      <td>...</td>\n",
       "      <td>...</td>\n",
       "      <td>...</td>\n",
       "      <td>...</td>\n",
       "      <td>...</td>\n",
       "      <td>...</td>\n",
       "      <td>...</td>\n",
       "    </tr>\n",
       "    <tr>\n",
       "      <th>581007</th>\n",
       "      <td>2396</td>\n",
       "      <td>153</td>\n",
       "      <td>20</td>\n",
       "      <td>85</td>\n",
       "      <td>17</td>\n",
       "      <td>108</td>\n",
       "      <td>240</td>\n",
       "      <td>237</td>\n",
       "      <td>118</td>\n",
       "      <td>837</td>\n",
       "      <td>...</td>\n",
       "      <td>0</td>\n",
       "      <td>0</td>\n",
       "      <td>0</td>\n",
       "      <td>0</td>\n",
       "      <td>0</td>\n",
       "      <td>0</td>\n",
       "      <td>0</td>\n",
       "      <td>0</td>\n",
       "      <td>0</td>\n",
       "      <td>3</td>\n",
       "    </tr>\n",
       "    <tr>\n",
       "      <th>581008</th>\n",
       "      <td>2391</td>\n",
       "      <td>152</td>\n",
       "      <td>19</td>\n",
       "      <td>67</td>\n",
       "      <td>12</td>\n",
       "      <td>95</td>\n",
       "      <td>240</td>\n",
       "      <td>237</td>\n",
       "      <td>119</td>\n",
       "      <td>845</td>\n",
       "      <td>...</td>\n",
       "      <td>0</td>\n",
       "      <td>0</td>\n",
       "      <td>0</td>\n",
       "      <td>0</td>\n",
       "      <td>0</td>\n",
       "      <td>0</td>\n",
       "      <td>0</td>\n",
       "      <td>0</td>\n",
       "      <td>0</td>\n",
       "      <td>3</td>\n",
       "    </tr>\n",
       "    <tr>\n",
       "      <th>581009</th>\n",
       "      <td>2386</td>\n",
       "      <td>159</td>\n",
       "      <td>17</td>\n",
       "      <td>60</td>\n",
       "      <td>7</td>\n",
       "      <td>90</td>\n",
       "      <td>236</td>\n",
       "      <td>241</td>\n",
       "      <td>130</td>\n",
       "      <td>854</td>\n",
       "      <td>...</td>\n",
       "      <td>0</td>\n",
       "      <td>0</td>\n",
       "      <td>0</td>\n",
       "      <td>0</td>\n",
       "      <td>0</td>\n",
       "      <td>0</td>\n",
       "      <td>0</td>\n",
       "      <td>0</td>\n",
       "      <td>0</td>\n",
       "      <td>3</td>\n",
       "    </tr>\n",
       "    <tr>\n",
       "      <th>581010</th>\n",
       "      <td>2384</td>\n",
       "      <td>170</td>\n",
       "      <td>15</td>\n",
       "      <td>60</td>\n",
       "      <td>5</td>\n",
       "      <td>90</td>\n",
       "      <td>230</td>\n",
       "      <td>245</td>\n",
       "      <td>143</td>\n",
       "      <td>864</td>\n",
       "      <td>...</td>\n",
       "      <td>0</td>\n",
       "      <td>0</td>\n",
       "      <td>0</td>\n",
       "      <td>0</td>\n",
       "      <td>0</td>\n",
       "      <td>0</td>\n",
       "      <td>0</td>\n",
       "      <td>0</td>\n",
       "      <td>0</td>\n",
       "      <td>3</td>\n",
       "    </tr>\n",
       "    <tr>\n",
       "      <th>581011</th>\n",
       "      <td>2383</td>\n",
       "      <td>165</td>\n",
       "      <td>13</td>\n",
       "      <td>60</td>\n",
       "      <td>4</td>\n",
       "      <td>67</td>\n",
       "      <td>231</td>\n",
       "      <td>244</td>\n",
       "      <td>141</td>\n",
       "      <td>875</td>\n",
       "      <td>...</td>\n",
       "      <td>0</td>\n",
       "      <td>0</td>\n",
       "      <td>0</td>\n",
       "      <td>0</td>\n",
       "      <td>0</td>\n",
       "      <td>0</td>\n",
       "      <td>0</td>\n",
       "      <td>0</td>\n",
       "      <td>0</td>\n",
       "      <td>3</td>\n",
       "    </tr>\n",
       "  </tbody>\n",
       "</table>\n",
       "<p>581012 rows × 55 columns</p>\n",
       "</div>"
      ],
      "text/plain": [
       "        Elevation  Aspect  Slope  Horizontal_Distance_To_Hydrology  \\\n",
       "0            2596      51      3                               258   \n",
       "1            2590      56      2                               212   \n",
       "2            2804     139      9                               268   \n",
       "3            2785     155     18                               242   \n",
       "4            2595      45      2                               153   \n",
       "...           ...     ...    ...                               ...   \n",
       "581007       2396     153     20                                85   \n",
       "581008       2391     152     19                                67   \n",
       "581009       2386     159     17                                60   \n",
       "581010       2384     170     15                                60   \n",
       "581011       2383     165     13                                60   \n",
       "\n",
       "        Vertical_Distance_To_Hydrology  Horizontal_Distance_To_Roadways  \\\n",
       "0                                    0                              510   \n",
       "1                                   -6                              390   \n",
       "2                                   65                             3180   \n",
       "3                                  118                             3090   \n",
       "4                                   -1                              391   \n",
       "...                                ...                              ...   \n",
       "581007                              17                              108   \n",
       "581008                              12                               95   \n",
       "581009                               7                               90   \n",
       "581010                               5                               90   \n",
       "581011                               4                               67   \n",
       "\n",
       "        Hillshade_9am  Hillshade_Noon  Hillshade_3pm  \\\n",
       "0                 221             232            148   \n",
       "1                 220             235            151   \n",
       "2                 234             238            135   \n",
       "3                 238             238            122   \n",
       "4                 220             234            150   \n",
       "...               ...             ...            ...   \n",
       "581007            240             237            118   \n",
       "581008            240             237            119   \n",
       "581009            236             241            130   \n",
       "581010            230             245            143   \n",
       "581011            231             244            141   \n",
       "\n",
       "        Horizontal_Distance_To_Fire_Points  ...  Soil_Type32  Soil_Type33  \\\n",
       "0                                     6279  ...            0            0   \n",
       "1                                     6225  ...            0            0   \n",
       "2                                     6121  ...            0            0   \n",
       "3                                     6211  ...            0            0   \n",
       "4                                     6172  ...            0            0   \n",
       "...                                    ...  ...          ...          ...   \n",
       "581007                                 837  ...            0            0   \n",
       "581008                                 845  ...            0            0   \n",
       "581009                                 854  ...            0            0   \n",
       "581010                                 864  ...            0            0   \n",
       "581011                                 875  ...            0            0   \n",
       "\n",
       "        Soil_Type34  Soil_Type35  Soil_Type36  Soil_Type37  Soil_Type38  \\\n",
       "0                 0            0            0            0            0   \n",
       "1                 0            0            0            0            0   \n",
       "2                 0            0            0            0            0   \n",
       "3                 0            0            0            0            0   \n",
       "4                 0            0            0            0            0   \n",
       "...             ...          ...          ...          ...          ...   \n",
       "581007            0            0            0            0            0   \n",
       "581008            0            0            0            0            0   \n",
       "581009            0            0            0            0            0   \n",
       "581010            0            0            0            0            0   \n",
       "581011            0            0            0            0            0   \n",
       "\n",
       "        Soil_Type39  Soil_Type40  Cover_Type  \n",
       "0                 0            0           5  \n",
       "1                 0            0           5  \n",
       "2                 0            0           2  \n",
       "3                 0            0           2  \n",
       "4                 0            0           5  \n",
       "...             ...          ...         ...  \n",
       "581007            0            0           3  \n",
       "581008            0            0           3  \n",
       "581009            0            0           3  \n",
       "581010            0            0           3  \n",
       "581011            0            0           3  \n",
       "\n",
       "[581012 rows x 55 columns]"
      ]
     },
     "execution_count": 2,
     "metadata": {},
     "output_type": "execute_result"
    }
   ],
   "source": [
    "# se carga el dataset\n",
    "df = pd.read_csv('covertype/covtype.csv')\n",
    "df"
   ]
  },
  {
   "cell_type": "markdown",
   "id": "2b5650ab",
   "metadata": {},
   "source": [
    "¿Cuántas instancias de datos tiene el dataset?"
   ]
  },
  {
   "cell_type": "code",
   "execution_count": 3,
   "id": "c21b23d3",
   "metadata": {},
   "outputs": [
    {
     "data": {
      "text/plain": [
       "581012"
      ]
     },
     "execution_count": 3,
     "metadata": {},
     "output_type": "execute_result"
    }
   ],
   "source": [
    "num_instances = df.shape[0]\n",
    "num_instances"
   ]
  },
  {
   "cell_type": "markdown",
   "id": "1869d474",
   "metadata": {},
   "source": [
    "581012\n"
   ]
  },
  {
   "cell_type": "markdown",
   "id": "26e1d966",
   "metadata": {},
   "source": [
    "¿Cuántas variables continuas hay en el dataset?"
   ]
  },
  {
   "cell_type": "code",
   "execution_count": 149,
   "id": "9510e492",
   "metadata": {},
   "outputs": [
    {
     "data": {
      "text/plain": [
       "(10,\n",
       " ['Slope',\n",
       "  'Hillshade_Noon',\n",
       "  'Hillshade_9am',\n",
       "  'Hillshade_3pm',\n",
       "  'Aspect',\n",
       "  'Horizontal_Distance_To_Hydrology',\n",
       "  'Vertical_Distance_To_Hydrology',\n",
       "  'Elevation',\n",
       "  'Horizontal_Distance_To_Roadways',\n",
       "  'Horizontal_Distance_To_Fire_Points'])"
      ]
     },
     "execution_count": 149,
     "metadata": {},
     "output_type": "execute_result"
    }
   ],
   "source": [
    "unique_values_per_var = df.nunique().sort_values()\n",
    "continuous_vars_real = unique_values_per_var[unique_values_per_var > 10]  # Suponiendo que las variables con más de 10 valores únicos son continuas\n",
    "num_continuous_vars_real = len(continuous_vars_real)\n",
    "\n",
    "num_continuous_vars_real, continuous_vars_real.index.tolist()"
   ]
  },
  {
   "cell_type": "markdown",
   "id": "29b8ec58",
   "metadata": {},
   "source": [
    " 10 variables continuas"
   ]
  },
  {
   "cell_type": "markdown",
   "id": "12c2a9c8",
   "metadata": {},
   "source": [
    "¿Cuántas variables categóricas hay en el dataset? Indica las categorías."
   ]
  },
  {
   "cell_type": "code",
   "execution_count": 150,
   "id": "a8b9782f",
   "metadata": {},
   "outputs": [
    {
     "data": {
      "text/plain": [
       "44"
      ]
     },
     "execution_count": 150,
     "metadata": {},
     "output_type": "execute_result"
    }
   ],
   "source": [
    "categorical_vars = unique_values_per_var[unique_values_per_var <= 2]\n",
    "num_categorical_vars = len(categorical_vars)\n",
    "num_categorical_vars"
   ]
  },
  {
   "cell_type": "markdown",
   "id": "22955251",
   "metadata": {},
   "source": [
    "hay 44 variables categóricas"
   ]
  },
  {
   "cell_type": "markdown",
   "id": "9b259f7a",
   "metadata": {},
   "source": [
    "¿Cómo es la distribución de etiquetas de clase en el dataset? Con estos datos, ¿podríamos decir que el dataset está balanceado?"
   ]
  },
  {
   "cell_type": "code",
   "execution_count": 151,
   "id": "5d2626a9",
   "metadata": {},
   "outputs": [
    {
     "data": {
      "image/png": "[encoded data removed]",
      "text/plain": [
       "<Figure size 1000x600 with 1 Axes>"
      ]
     },
     "metadata": {},
     "output_type": "display_data"
    },
    {
     "data": {
      "text/plain": [
       "Cover_Type\n",
       "2    283301\n",
       "1    211840\n",
       "3     35754\n",
       "7     20510\n",
       "6     17367\n",
       "5      9493\n",
       "4      2747\n",
       "Name: count, dtype: int64"
      ]
     },
     "execution_count": 151,
     "metadata": {},
     "output_type": "execute_result"
    }
   ],
   "source": [
    "# Contar las instancias de cada etiqueta de clase (en este caso, la variable 'Cover_Type')\n",
    "class_counts = df['Cover_Type'].value_counts()\n",
    "\n",
    "# Graficar la distribución de las etiquetas de clase\n",
    "plt.figure(figsize=(10, 6))\n",
    "class_counts.plot(kind='bar')\n",
    "plt.title('Distribución de Etiquetas de Clase en el Dataset CoverType')\n",
    "plt.xlabel('Tipo de Cubierta Forestal')\n",
    "plt.ylabel('Número de Instancias')\n",
    "plt.xticks(rotation=0)\n",
    "plt.grid(axis='y')\n",
    "plt.show()\n",
    "\n",
    "# Mostrar los conteos para una mejor evaluación\n",
    "class_counts\n"
   ]
  },
  {
   "cell_type": "markdown",
   "id": "f0b45007",
   "metadata": {},
   "source": [
    "Observando estos recuentos, es evidente que el conjunto de datos no está balanceado. Los tipos de cubierta forestal 1 y 2 tienen un número significativamente mayor de instancias en comparación con los otros tipos. En particular, los tipos 4 y 5 están representados en menor medida."
   ]
  },
  {
   "cell_type": "markdown",
   "id": "f5aa4dd7",
   "metadata": {},
   "source": [
    "¿Existen valores nulos o perdidos en el dataset?"
   ]
  },
  {
   "cell_type": "code",
   "execution_count": 152,
   "id": "39995616",
   "metadata": {},
   "outputs": [
    {
     "data": {
      "text/plain": [
       "0"
      ]
     },
     "execution_count": 152,
     "metadata": {},
     "output_type": "execute_result"
    }
   ],
   "source": [
    "null_values = df.isnull().sum()\n",
    "total_null_values = null_values.sum()\n",
    "\n",
    "total_null_values"
   ]
  },
  {
   "cell_type": "markdown",
   "id": "150e0efd",
   "metadata": {},
   "source": [
    "No contiene valores nulos o perdidos"
   ]
  },
  {
   "cell_type": "markdown",
   "id": "625ba0c3",
   "metadata": {},
   "source": [
    "¿Existe alguna variable altamente correlacionada con la variable de clase?"
   ]
  },
  {
   "cell_type": "markdown",
   "id": "f2e38d4e",
   "metadata": {},
   "source": [
    "_Nota: Para responder a esto, como es muy dificil ver la matriz de correlaciones, recomendamosfiltar aquellas correlaciones superiores al 0.80 con la variable de clase."
   ]
  },
  {
   "cell_type": "code",
   "execution_count": 153,
   "id": "1d61da96",
   "metadata": {
    "scrolled": true
   },
   "outputs": [
    {
     "name": "stdout",
     "output_type": "stream",
     "text": [
      "Elevation                            -0.269554\n",
      "Wilderness_Area1                     -0.203913\n",
      "Horizontal_Distance_To_Roadways      -0.153450\n",
      "Soil_Type22                          -0.141746\n",
      "Soil_Type23                          -0.135055\n",
      "Soil_Type29                          -0.124933\n",
      "Horizontal_Distance_To_Fire_Points   -0.108936\n",
      "Hillshade_Noon                       -0.096426\n",
      "Soil_Type32                          -0.075562\n",
      "Soil_Type24                          -0.068746\n",
      "Soil_Type31                          -0.065347\n",
      "Soil_Type33                          -0.062502\n",
      "Hillshade_3pm                        -0.048290\n",
      "Wilderness_Area2                     -0.048059\n",
      "Soil_Type19                          -0.036452\n",
      "Hillshade_9am                        -0.035415\n",
      "Soil_Type20                          -0.028665\n",
      "Soil_Type21                          -0.025400\n",
      "Soil_Type12                          -0.023601\n",
      "Horizontal_Distance_To_Hydrology     -0.020317\n",
      "Soil_Type27                          -0.014407\n",
      "Soil_Type30                          -0.010436\n",
      "Soil_Type25                          -0.006449\n",
      "Soil_Type9                           -0.006110\n",
      "Soil_Type8                           -0.003667\n",
      "Soil_Type28                          -0.001702\n",
      "Soil_Type7                           -0.000496\n",
      "Soil_Type26                          -0.000375\n",
      "Soil_Type34                           0.004643\n",
      "Soil_Type15                           0.006425\n",
      "Soil_Type18                           0.007390\n",
      "Soil_Type16                           0.009844\n",
      "Aspect                                0.017080\n",
      "Soil_Type13                           0.024404\n",
      "Soil_Type36                           0.025397\n",
      "Soil_Type11                           0.035379\n",
      "Soil_Type14                           0.065562\n",
      "Wilderness_Area3                      0.066846\n",
      "Soil_Type3                            0.068064\n",
      "Soil_Type5                            0.077890\n",
      "Soil_Type37                           0.080271\n",
      "Soil_Type35                           0.080315\n",
      "Vertical_Distance_To_Hydrology        0.081664\n",
      "Soil_Type17                           0.090582\n",
      "Soil_Type1                            0.090828\n",
      "Soil_Type4                            0.099672\n",
      "Soil_Type6                            0.112958\n",
      "Soil_Type2                            0.118135\n",
      "Soil_Type40                           0.128351\n",
      "Slope                                 0.148285\n",
      "Soil_Type39                           0.155668\n",
      "Soil_Type38                           0.160170\n",
      "Soil_Type10                           0.243876\n",
      "Wilderness_Area4                      0.323200\n",
      "Cover_Type                            1.000000\n",
      "Name: Cover_Type, dtype: float64\n"
     ]
    }
   ],
   "source": [
    "correlation_with_cover_type = df.corr()['Cover_Type'].sort_values()\n",
    "print(correlation_with_cover_type)"
   ]
  },
  {
   "cell_type": "markdown",
   "id": "5da178b4-5627-48b9-ad49-dd9539fe07d5",
   "metadata": {},
   "source": [
    "No hay variables altamente correlacionadas (con una correlación ≥ 0.80) con la variable de clase 'Cover_Type'"
   ]
  },
  {
   "cell_type": "markdown",
   "id": "88ed3c79",
   "metadata": {},
   "source": [
    "¿Qué tres variables del dataset consideras que pueden influenciar más en la clasificación de los datos?¿Qué pruebas harías para comprobar tus hipótesis? Hazlas."
   ]
  },
  {
   "cell_type": "markdown",
   "id": "ff908697",
   "metadata": {},
   "source": [
    "-Elevation, Wilderness_Area4, Soil_Type10"
   ]
  },
  {
   "cell_type": "code",
   "execution_count": 3,
   "id": "e36f156a",
   "metadata": {},
   "outputs": [],
   "source": [
    "# Separamos los datos en los conjuntos de entrenamiento y test.\n",
    "from sklearn.model_selection import train_test_split\n",
    "\n",
    "X, y = df.drop('Cover_Type',axis=1),df['Cover_Type']\n",
    "\n",
    "X_train,X_test,y_train,y_test = train_test_split(X, y, test_size=0.8, random_state=0)"
   ]
  },
  {
   "cell_type": "markdown",
   "id": "253d38fb",
   "metadata": {},
   "source": [
    "### Clasificación"
   ]
  },
  {
   "cell_type": "markdown",
   "id": "18aa2ef3",
   "metadata": {},
   "source": [
    "**Random Forest**\n",
    "\n",
    "En esta parte de la actividad hay que utilizar la librería https://scikit-learn.org/stable/modules/generated/sklearn.ensemble.RandomForestClassifier.html para resolver el problema de clasificación.\n",
    "\n",
    "El algortimo de RF necesitar ajustar una serie de hiperparámetros para realizar las clasificaciones. La implementación de sklearn nos da mucha flexibilidad para nuestros modelos. En general, para los problemas más comunes de clasificación, nos tenemos que preocupar de los siguientes hiperparámetros:\n",
    "- n_estimators\n",
    "- criterion\n",
    "- max_depth\n",
    "- min_samples_split\n",
    "- min_samples_leaf\n",
    "- max_features\n",
    "\n",
    "Indica qué son cada uno de estos hiperparámetros"
   ]
  },
  {
   "cell_type": "markdown",
   "id": "bd1bad91",
   "metadata": {},
   "source": [
    "-n_estimators = Numero de arboles que vamos a utilizar para generar el bosque.\n",
    "-criterion = Criterio utilizado para evaluar la calidad de una división en los nodos del árbol.\n",
    "-max_depth = Profundidad máxima de los árboles.\n",
    "-min_samples_split =  Número mínimo de muestras necesarias para dividir un nodo interno.\n",
    "-min_samples_leaf = Número mínimo de muestras que debe tener una hoja del árbol.\n",
    "-max_features = Número máximo de características que se consideran para dividir un nodo."
   ]
  },
  {
   "cell_type": "markdown",
   "id": "4fe96625",
   "metadata": {},
   "source": [
    "Además de los hiperparámetros que acabas de descubrir, la implementación de sklearn tiene el hiperparámetro _class_weight_\n",
    "\n",
    "¿Qué indica ese parámetro? ¿Para qué puede ser útil?"
   ]
  },
  {
   "cell_type": "markdown",
   "id": "1b9ca14f",
   "metadata": {},
   "source": [
    "Permite asignar pesos a las clases, es decir, en conjunto de datos, lo cuales estas desequilibrados, unos pueden tener mas peso que otros, haciendo que el modelo quede sesgado.\n",
    "\n",
    "Si se establece en 'balanced' ajustará automáticamente los pesos de manera inversamente proporcional a las frecuencias de las clases. Es decir, asignará un peso mayor a las clases menos frecuentes y un peso menor a las más frecuentes.\n",
    "\n",
    "Nos puede ser util ya que nos ayuda a manejar el desequilibrio de clases, mejorar la generalizacion del modelo, controlar la importancia de las clases. En otras palabras, el modelo preste más atención a ciertas clases durante el entrenamiento, lo que puede ser crucial para obtener un rendimiento equilibrado del modelo en todas las clases."
   ]
  },
  {
   "cell_type": "markdown",
   "id": "6addd9e7",
   "metadata": {},
   "source": [
    "Como primer paso para crear un clasificador de Random Forest hay que decidir si hay que hacer algún preprocesamiento adicional sobre los datos.\n",
    "¿Hace falta normalizar los datos?"
   ]
  },
  {
   "cell_type": "markdown",
   "id": "3ea31437-015a-4595-8c1d-887d9b6fadd5",
   "metadata": {},
   "source": [
    "-Es un método basado en árboles de decisión, y los árboles de decisión no son sensibles a la escala de las variables. Ya que estos realizan divisiones (split) las cuales no dependen de la distancia entre puntos y por ende de la escala, sino del criterio a utilizar gini o entropy "
   ]
  },
  {
   "cell_type": "markdown",
   "id": "e3465ab1",
   "metadata": {},
   "source": [
    "Entrena un conjunto de modelos de Random Forest que utilicen todas las variables del dataset, con 5, 10, 20, 50 y 100 árboles. El criterio para realizar las particiones debe ser Gini-index, la profundidad máxima de los árboles debe ser 10, el número mínimo de ejemplos para realizar una partición debe ser 10, el número mínimo de ejemplos para considerarlo una hoja debe ser 2, y el número máximo de características deben ser todas.\n",
    "\n",
    "_Nota: el entrenamiento puede tardar entre 3 y 15 minutos en función de las características del equipo._"
   ]
  },
  {
   "cell_type": "code",
   "execution_count": 4,
   "id": "8179eb72",
   "metadata": {},
   "outputs": [],
   "source": [
    "# numero de árboles: 5, 10, 20, 50 y 100\n",
    "from sklearn.ensemble import RandomForestClassifier\n",
    "\n",
    "n_arboles = [5, 10, 20, 50 , 100]\n",
    "particion = 'gini'\n",
    "max_depth = 10\n",
    "min_samples_split = 10\n",
    "min_samples_leaf = 2\n",
    "max_features = None\n",
    "\n",
    "\n",
    "randomForest = [RandomForestClassifier(n_estimators = i, criterion= particion,\n",
    "                                       max_depth = max_depth, min_samples_split = min_samples_split,\n",
    "                                      min_samples_leaf = min_samples_leaf, max_features=max_features, class_weight='balanced') for i in n_arboles]\n"
   ]
  },
  {
   "cell_type": "code",
   "execution_count": 5,
   "id": "96240675",
   "metadata": {},
   "outputs": [],
   "source": [
    "# Entrenamiento de cada modelo en la lista 'randomForest'\n",
    "for rf in randomForest:\n",
    "    rf.fit(X_train, y_train)  # Entrenamiento del modelo"
   ]
  },
  {
   "cell_type": "code",
   "execution_count": null,
   "id": "b5554898",
   "metadata": {},
   "outputs": [],
   "source": []
  },
  {
   "cell_type": "markdown",
   "id": "5898797f",
   "metadata": {},
   "source": [
    "Visualiza la matriz de confusión del modelo entrenado con 20 árboles."
   ]
  },
  {
   "cell_type": "code",
   "execution_count": 6,
   "id": "2735dc23",
   "metadata": {},
   "outputs": [
    {
     "data": {
      "text/plain": [
       "array([[123318,  25302,    124,      0,   7948,    830,  11981],\n",
       "       [ 40475, 131867,   4541,     29,  39768,   8343,   1689],\n",
       "       [     0,     51,  22728,    704,   1153,   3835,      0],\n",
       "       [     0,      0,    176,   1991,      0,     37,      0],\n",
       "       [    16,    283,    123,      0,   7024,    150,      0],\n",
       "       [     0,     14,   1853,    242,    630,  11202,      0],\n",
       "       [  1032,     55,      0,      0,     56,      0,  15240]],\n",
       "      dtype=int64)"
      ]
     },
     "execution_count": 6,
     "metadata": {},
     "output_type": "execute_result"
    }
   ],
   "source": [
    "from sklearn.metrics import confusion_matrix\n",
    "# Identificar el modelo con 20 árboles\n",
    "modelo_20_arboles = [modelo for modelo in randomForest if modelo.n_estimators == 20][0]\n",
    "\n",
    "# Hacer predicciones con el conjunto de prueba\n",
    "y_pred = modelo_20_arboles.predict(X_test)\n",
    "\n",
    "# Calcular la matriz de confusión\n",
    "matriz_confusion = confusion_matrix(y_test, y_pred)\n",
    "matriz_confusion"
   ]
  },
  {
   "cell_type": "code",
   "execution_count": 7,
   "id": "fad49946",
   "metadata": {},
   "outputs": [
    {
     "name": "stdout",
     "output_type": "stream",
     "text": [
      "Clasificaciones Correctas: 313370\n",
      "Clasificaciones Incorrectas: 151440\n"
     ]
    }
   ],
   "source": [
    "# Número de clasificaciones correctas (suma de la diagonal principal)\n",
    "correctas = matriz_confusion.diagonal().sum()\n",
    "\n",
    "# Número total de clasificaciones (suma de todos los valores de la matriz)\n",
    "total_clasificaciones = matriz_confusion.sum()\n",
    "\n",
    "# Número de clasificaciones incorrectas\n",
    "incorrectas = total_clasificaciones - correctas\n",
    "\n",
    "print(f\"Clasificaciones Correctas: {correctas}\")\n",
    "print(f\"Clasificaciones Incorrectas: {incorrectas}\")\n"
   ]
  },
  {
   "cell_type": "markdown",
   "id": "72ebca94",
   "metadata": {},
   "source": [
    "¿Cuántos ejemplos ha clasificado correctamente?"
   ]
  },
  {
   "cell_type": "markdown",
   "id": "fab58c9a",
   "metadata": {},
   "source": [
    "- Clasificaciones Correctas: 313370\r",
    "- \n",
    "Clasificaciones Incorrectas: 1514408"
   ]
  },
  {
   "cell_type": "markdown",
   "id": "472169f2-e1bb-437f-954c-699dbe609341",
   "metadata": {},
   "source": [
    "Explica cómo funciona la clasificación para cada una de las 7 clases. ¿Hay alguna clase que clasifica mejor que otras?"
   ]
  },
  {
   "cell_type": "markdown",
   "id": "a0708331",
   "metadata": {},
   "source": [
    "- Las clases 1, 2 y 7 tienen un número más alto de clasificaciones correctas en comparación con las demás clases. Esto se debe a que estas clases son más dominantes en el conjunto de datos.\n",
    "- Las clases 3, 4, 5 y 6 contiene mayores números de clasificaciones incorrectas."
   ]
  },
  {
   "cell_type": "markdown",
   "id": "65c05b55",
   "metadata": {},
   "source": [
    "¿Cuál de todos los modelos que has entrenado obtiene mejores resultados de precisión para el conjunto de datos de test?\n",
    "\n",
    "_Nota: recuerda que es un modelo de clasificación multiclase y hay que analizar los datos para todas las clases._"
   ]
  },
  {
   "cell_type": "code",
   "execution_count": 8,
   "id": "417714b6",
   "metadata": {},
   "outputs": [
    {
     "name": "stdout",
     "output_type": "stream",
     "text": [
      "Accuracy para 5 árboles: 0.6830\n",
      "Accuracy para 10 árboles: 0.6704\n",
      "Accuracy para 20 árboles: 0.6742\n",
      "Accuracy para 50 árboles: 0.6817\n",
      "Accuracy para 100 árboles: 0.6825\n"
     ]
    }
   ],
   "source": [
    "from sklearn.metrics import accuracy_score\n",
    "\n",
    "accuracies = []\n",
    "for rf in randomForest:\n",
    "    y_pred = rf.predict(X_test)  # Predicciones del modelo\n",
    "    accuracy = accuracy_score(y_test, y_pred)  # Cálculo de la precisión\n",
    "    accuracies.append(accuracy)\n",
    "\n",
    "# Imprimir la precisión de cada modelo\n",
    "for n, acc in zip(n_arboles, accuracies):\n",
    "    print(f\"Accuracy para {n} árboles: {acc:.4f}\")"
   ]
  },
  {
   "cell_type": "markdown",
   "id": "6d9a26ef",
   "metadata": {},
   "source": [
    "El modelo con 100 árboles es el que obtiene la precision más alta. "
   ]
  },
  {
   "cell_type": "markdown",
   "id": "4b92ac9e",
   "metadata": {},
   "source": [
    "Selecciona el modelo que consideras que obtiene mejores resultados para los resultados de test. Explica por qué consideras que ese modelo es el que mejor resultados obtiene."
   ]
  },
  {
   "cell_type": "markdown",
   "id": "e250be8a-232d-4369-9f32-09c31f2ad0f8",
   "metadata": {},
   "source": [
    "El modelo con 50 árboles obtiene la mayor precisión con un 67.21%, considero que este es el mejor modelo, ya que a pesar de tener 50 árboles menos, el rendimiento es muy similar al de maxima precisión, por lo cual es muy enfiente si hablamos de costo computacional"
   ]
  },
  {
   "cell_type": "markdown",
   "id": "c48515df",
   "metadata": {},
   "source": [
    "Visualiza la matriz de confusión de los datos de test de este modelo.\n",
    "- ¿Cuántos ejemplos ha clasificado bien el modelo?\n",
    "- ¿Cuántos ejemplos ha clasificado de manera errónea?\n"
   ]
  },
  {
   "cell_type": "code",
   "execution_count": 9,
   "id": "d7fa6b5d",
   "metadata": {},
   "outputs": [
    {
     "name": "stdout",
     "output_type": "stream",
     "text": [
      "Clasificaciones Correctas: 316844\n",
      "Clasificaciones Incorrectas: 147966\n"
     ]
    }
   ],
   "source": [
    "from sklearn.metrics import confusion_matrix\n",
    "# Identificar el modelo con 20 árboles\n",
    "modelo_50_arboles = [modelo for modelo in randomForest if modelo.n_estimators == 50][0]\n",
    "\n",
    "# Hacer predicciones con el conjunto de prueba\n",
    "y_pred = modelo_50_arboles.predict(X_test)\n",
    "\n",
    "# Calcular la matriz de confusión\n",
    "matriz_confusion = confusion_matrix(y_test, y_pred)\n",
    "matriz_confusion\n",
    "# Número de clasificaciones correctas (suma de la diagonal principal)\n",
    "correctas = matriz_confusion.diagonal().sum()\n",
    "\n",
    "# Número total de clasificaciones (suma de todos los valores de la matriz)\n",
    "total_clasificaciones = matriz_confusion.sum()\n",
    "\n",
    "# Número de clasificaciones incorrectas\n",
    "incorrectas = total_clasificaciones - correctas\n",
    "\n",
    "print(f\"Clasificaciones Correctas: {correctas}\")\n",
    "print(f\"Clasificaciones Incorrectas: {incorrectas}\")"
   ]
  },
  {
   "cell_type": "markdown",
   "id": "8e654f17-d0db-43dd-9e12-d2423e3fd9c3",
   "metadata": {},
   "source": [
    "- Clasificaciones Correctas: 316844\r",
    "- \n",
    "Clasificaciones Incorrectas:1479669"
   ]
  },
  {
   "cell_type": "markdown",
   "id": "9c4466e7",
   "metadata": {},
   "source": [
    "Visualiza los valores de precision, recall, f1 para cada una de las clases. \n",
    "- ¿Clasifica de igual manera todas las clases o hay alguna para la que el modelo tiene una mayor capacidad predictiva?"
   ]
  },
  {
   "cell_type": "code",
   "execution_count": 161,
   "id": "bed193fc",
   "metadata": {},
   "outputs": [
    {
     "name": "stdout",
     "output_type": "stream",
     "text": [
      "              precision    recall  f1-score   support\n",
      "\n",
      "           1       0.76      0.73      0.74    169503\n",
      "           2       0.83      0.60      0.70    226712\n",
      "           3       0.77      0.79      0.78     28471\n",
      "           4       0.68      0.90      0.78      2204\n",
      "           5       0.13      0.93      0.23      7596\n",
      "           6       0.45      0.80      0.58     13941\n",
      "           7       0.55      0.93      0.69     16383\n",
      "\n",
      "    accuracy                           0.68    464810\n",
      "   macro avg       0.60      0.81      0.64    464810\n",
      "weighted avg       0.77      0.68      0.71    464810\n",
      "\n"
     ]
    }
   ],
   "source": [
    "from sklearn.metrics import classification_report\n",
    "\n",
    "# Suponiendo que y_pred contiene las predicciones del modelo con 50 árboles para X_test\n",
    "report = classification_report(y_test, y_pred, output_dict=False)\n",
    "print(report)"
   ]
  },
  {
   "cell_type": "markdown",
   "id": "32e4eba7-bbda-4f31-88a4-31e44ab63a2e",
   "metadata": {},
   "source": [
    "El modelo no clasifica todas las clases de igual manera.  Las clases 4 y 7 muestran un alto recall, lo que indica que el modelo es muy bueno detectando los casos positivos. La clase 5 destaca por su alto recall pero tiene una precisión muy baja, lo que sugiere que, aunque el modelo puede identificar casi todos los casos positivos de esta clase, también comete muchos errores. La clase 2 tiene la mayor precisión pero un recall más bajo, lo que indica que cuando el modelo predice esta clase, suele estar en lo correcto, pero se pierden muchos casos positivos reales."
   ]
  },
  {
   "cell_type": "markdown",
   "id": "5fec7fc6",
   "metadata": {},
   "source": [
    "**Support Vector Machine**"
   ]
  },
  {
   "cell_type": "code",
   "execution_count": 1,
   "id": "a40cce61",
   "metadata": {},
   "outputs": [],
   "source": [
    "# Importamos las librerías para utilizar las máquinas de vector de soportes.\n",
    "# Utilizaremos la librería svm:\n",
    "\n",
    "from sklearn import svm\n",
    "\n",
    "#Cargamos también las librerías para hacer la matriz de confusión y la cross validation:\n",
    "\n",
    "from sklearn import metrics\n",
    "from sklearn.metrics import confusion_matrix\n",
    "from sklearn.model_selection import cross_val_score\n",
    "from sklearn.model_selection import cross_val_predict\n",
    "from sklearn.model_selection import KFold"
   ]
  },
  {
   "cell_type": "markdown",
   "id": "fb3e9db2",
   "metadata": {},
   "source": [
    "Para la implementación del modelo de clasificación de SVM usaremos la clase Support Vector Classifier de sklearn, https://scikit-learn.org/stable/modules/generated/sklearn.svm.SVC.html#sklearn.svm.SVC\n",
    "\n",
    "El algoritmo de SVM necesita ajustar una serie de hiperparámetros para realizar las clasificaciones. La implementación de sklearn nos da mucha flexibilidad para nuestros modelos. En general, para los problemas más comunes de clasificación, nos tenemos que preocupar de los siguientes hiperparámetros:\n",
    "- C\n",
    "- kernel\n",
    "- degree\n",
    "- gamma\n",
    "\n",
    "Indica qué son cada uno de estos hiperparámetros"
   ]
  },
  {
   "cell_type": "markdown",
   "id": "56cfc868",
   "metadata": {},
   "source": [
    "- C = Parámetro de regularización. Un valor bajo de C hace que el margen sea amplio, permitiendo más violaciones del margen (es decir, ejemplos de entrenamiento que caen dentro del margen o incluso en el lado incorrecto del hiperplano de decisión)\n",
    "- kernel = Tipo de hiperplano utilizado para separar los datos, puede ser (‘linear’, ‘poly’, ‘rbf’, ‘sigmoid’, ‘precomputed’), diferentes tipos de funciones kernel para transformar el espacio de entrada en un espacio de mayor dimensión donde los datos puedan ser linealmente separables. \n",
    "- degree = Solo cuando el kernel = \"poly\" e indica el grado del polinomio.\n",
    "- gamma = Hasta qué punto llega la influencia de un solo ejemplo de entrenamiento, con valores bajos indicando una influencia lejana y valores altos una influencia cercana."
   ]
  },
  {
   "cell_type": "markdown",
   "id": "d8602f42",
   "metadata": {},
   "source": [
    "Además de los hiperparámetros que acabas de descubrir, la implementación de sklearn tiene el hiperparámetro decision_function_shape\n",
    "\n",
    "¿Qué indica ese parámetro? ¿Para qué puede ser útil?"
   ]
  },
  {
   "cell_type": "markdown",
   "id": "3ed9711c",
   "metadata": {},
   "source": [
    "Determina la forma de la función de decisión. 'ovo' (One-vs-One): Para cada par de clases, se entrena un clasificador separado. 'ovr' (One-vs-Rest): Para cada clase, se entrena un clasificador que la distingue de todas las demás clases combinadas.  "
   ]
  },
  {
   "cell_type": "markdown",
   "id": "4c6c62e3-fb4a-450a-8f02-78c15827e995",
   "metadata": {},
   "source": [
    "Tenemos un dataset de más de medio millón de instancias, y para el objetivo de la actividad no hacen falta tantas. Por eso, antes de aplicar SVM vamos a reducir el número de instancias. SVM requiere una gran carga computacional y con ese volumen de instancias el tiempo requerido sería demasiado elevado."
   ]
  },
  {
   "cell_type": "code",
   "execution_count": 6,
   "id": "0c2eda09-2d5a-4c65-97d6-ee2e42dd7927",
   "metadata": {},
   "outputs": [],
   "source": [
    "df = df.head(100000)"
   ]
  },
  {
   "cell_type": "markdown",
   "id": "34b0776e-c261-4ce3-805a-7aea13356b39",
   "metadata": {},
   "source": [
    "Nota: recuerda revisar que esta manera de seleccionar un subconjunto de instancias no altera la clase objetivo. Deberías tener un porcentaje similar de instancias de cada clase. Si no fuera así, deberás cambiar la manera de seleccionar el subconjunto."
   ]
  },
  {
   "cell_type": "code",
   "execution_count": 7,
   "id": "66ea4833-4b85-4dc7-9346-12bed09d1104",
   "metadata": {},
   "outputs": [
    {
     "data": {
      "image/png": "[encoded data removed]",
      "text/plain": [
       "<Figure size 640x480 with 1 Axes>"
      ]
     },
     "metadata": {},
     "output_type": "display_data"
    }
   ],
   "source": [
    "df['Cover_Type'].value_counts().plot(kind='pie',autopct='%.2f',)\n",
    "plt.show()"
   ]
  },
  {
   "cell_type": "code",
   "execution_count": 8,
   "id": "8701f7a1-9112-4c27-88e7-2c105f90f048",
   "metadata": {},
   "outputs": [],
   "source": [
    "# Con el nuevo número de instancias, separamos los datos en los conjuntos de entrenamiento y test.\n",
    "from sklearn.model_selection import train_test_split\n",
    "\n",
    "X, y = df.drop('Cover_Type',axis=1),df['Cover_Type']\n",
    "\n",
    "X_train,X_test,y_train,y_test = train_test_split(X, y, test_size=0.8, random_state=1)\n"
   ]
  },
  {
   "cell_type": "markdown",
   "id": "155f3ed0",
   "metadata": {},
   "source": [
    "Como primer paso para crear un clasificador de SVM hay que decidir si hay que hacer algún preprocesamiento adicional sobre los datos. ¿Hace falta normalizar los datos?"
   ]
  },
  {
   "cell_type": "code",
   "execution_count": 9,
   "id": "1fa219b7",
   "metadata": {},
   "outputs": [],
   "source": [
    "## PON AQUÍ TU CÓDIGO SI CONSIDERAS QUE HAY QUE NORMALIZAR LOS DATOS\n",
    "\n",
    "from sklearn.preprocessing import StandardScaler\n",
    "from pandas import DataFrame\n",
    "\n",
    "\n",
    "scaler = StandardScaler()\n",
    "\n",
    "X_train = scaler.fit_transform(X_train) \n",
    "X_test = scaler.transform(X_test) \n"
   ]
  },
  {
   "cell_type": "markdown",
   "id": "f773c8f8",
   "metadata": {},
   "source": [
    "Entrena un conjunto de modelos de SVM que utilicen todas las variables del dataset, con C = 0.1 hasta 1000 con cinco valores diferentes; kernel radial, y gamma con valor scale."
   ]
  },
  {
   "cell_type": "code",
   "execution_count": 10,
   "id": "3af670f1",
   "metadata": {},
   "outputs": [
    {
     "data": {
      "text/plain": [
       "[SVC(C=0.1), SVC(C=1), SVC(C=10), SVC(C=100), SVC(C=1000)]"
      ]
     },
     "execution_count": 10,
     "metadata": {},
     "output_type": "execute_result"
    }
   ],
   "source": [
    "from sklearn.svm import SVC\n",
    "\n",
    "C = [0.1, 1, 10, 100, 1000]\n",
    "kernel = 'rbf'\n",
    "gamma = 'scale'\n",
    "\n",
    "svc = [SVC(C=i, kernel=kernel, gamma=gamma) for i in C]\n",
    "svc"
   ]
  },
  {
   "cell_type": "code",
   "execution_count": 11,
   "id": "cb57575c",
   "metadata": {},
   "outputs": [],
   "source": [
    "# Entrenar cada modelo en el conjunto de entrenamiento\n",
    "for model in svc:\n",
    "    model.fit(X_train, y_train)"
   ]
  },
  {
   "cell_type": "code",
   "execution_count": 12,
   "id": "ef988a40-c7d6-40d5-bac1-6f3d16c3fb06",
   "metadata": {},
   "outputs": [],
   "source": [
    "score = model.score(X_test, y_test)"
   ]
  },
  {
   "cell_type": "code",
   "execution_count": 13,
   "id": "9bfd412a",
   "metadata": {},
   "outputs": [
    {
     "data": {
      "text/plain": [
       "0.873975"
      ]
     },
     "execution_count": 13,
     "metadata": {},
     "output_type": "execute_result"
    }
   ],
   "source": [
    "score"
   ]
  },
  {
   "cell_type": "markdown",
   "id": "0ffaa64a",
   "metadata": {},
   "source": [
    "Después de hacer el entrenamiento, visualiza las matrices de confusión de los modelos entrenados."
   ]
  },
  {
   "cell_type": "code",
   "execution_count": 20,
   "id": "589d3eb4",
   "metadata": {},
   "outputs": [],
   "source": [
    "# Calcular y visualizar la matriz de confusión para cada modelo\n",
    "for model in svc:\n",
    "    # Hacer predicciones con el modelo actual\n",
    "    y_pred = model.predict(X_test)\n",
    "    \n",
    "    # Calcular la matriz de confusión\n",
    "    matrix = confusion_matrix(y_test, y_pred)\n",
    "    matrix"
   ]
  },
  {
   "cell_type": "markdown",
   "id": "d04ad53c",
   "metadata": {},
   "source": [
    "¿Cuántos ejemplos ha clasificado correctamente cada uno de los modelos?"
   ]
  },
  {
   "cell_type": "code",
   "execution_count": 21,
   "id": "f3d3aae0-cd49-4c61-bae3-d102853a8032",
   "metadata": {},
   "outputs": [
    {
     "name": "stdout",
     "output_type": "stream",
     "text": [
      "Clasificaciones Correctas: 69918\n",
      "Clasificaciones Incorrectas: 10082\n"
     ]
    }
   ],
   "source": [
    "# Número de clasificaciones correctas (suma de la diagonal principal)\n",
    "correctas = matrix.diagonal().sum()\n",
    "\n",
    "# Número total de clasificaciones (suma de todos los valores de la matriz)\n",
    "total_clasificaciones = matrix.sum()\n",
    "\n",
    "# Número de clasificaciones incorrectas\n",
    "incorrectas = total_clasificaciones - correctas\n",
    "\n",
    "print(f\"Clasificaciones Correctas: {correctas}\")\n",
    "print(f\"Clasificaciones Incorrectas: {incorrectas}\")"
   ]
  },
  {
   "cell_type": "markdown",
   "id": "8d46849d",
   "metadata": {},
   "source": [
    "Clasificaciones Correctas: 69918\r\n",
    "Clasificaciones Incorrectas: 10082"
   ]
  },
  {
   "cell_type": "markdown",
   "id": "6ddb9cf9",
   "metadata": {},
   "source": [
    "¿Cuál de todos los modelos que has entrenado obtiene mejores resultados de precision para todas las clases? Si no hay ninguno que consideres que sea óptimo, explica cómo se comporta para cada clase el modelo que consideres que tiene mejores resultados."
   ]
  },
  {
   "cell_type": "code",
   "execution_count": 25,
   "id": "1278fd97",
   "metadata": {},
   "outputs": [
    {
     "name": "stdout",
     "output_type": "stream",
     "text": [
      "Precisión para C=0.1: 0.808675\n",
      "Precisión para C=1: 0.8341625\n",
      "Precisión para C=10: 0.8528625\n",
      "Precisión para C=100: 0.8665\n",
      "Precisión para C=1000: 0.873975\n"
     ]
    }
   ],
   "source": [
    "from sklearn.metrics import accuracy_score\n",
    "\n",
    "precisions = []\n",
    "for model in svc:\n",
    "    y_pred = model.predict(X_test)  # Predicciones del modelo\n",
    "    # Calcular la precisión\n",
    "    precision = accuracy_score(y_test, y_pred)\n",
    "    precisions.append(precision)\n",
    "# Mostrar la precisión para cada modelo\n",
    "for c, precision in zip(C, precisions):\n",
    "    print(f'Precisión para C={c}: {precision}')"
   ]
  },
  {
   "cell_type": "markdown",
   "id": "ed4bd6a8",
   "metadata": {},
   "source": [
    "El modelo de SVM con un C=1000 es el que mejor precision tiene, pero el que conlleva mayor poder de calculo, por lo que optimo seria el con C=100, este modelo tiene muy buena precisión y ademas el costo computacional no es elevado."
   ]
  },
  {
   "cell_type": "markdown",
   "id": "24bd428f",
   "metadata": {},
   "source": [
    "Selecciona el modelo que consideras que obtiene mejores resultados y realiza las predicciones con el conjunto de datos de test."
   ]
  },
  {
   "cell_type": "code",
   "execution_count": 18,
   "id": "5eef52fa",
   "metadata": {},
   "outputs": [],
   "source": [
    "# Seleccionar el modelo con C=100\n",
    "model_C_100 = [model for model in svc if model.C == 100][0]\n",
    "\n",
    "# Realizar predicciones con el modelo seleccionado\n",
    "y_pred = model_C_100.predict(X_test)"
   ]
  },
  {
   "cell_type": "markdown",
   "id": "1156e32d",
   "metadata": {},
   "source": [
    "Visualiza la matriz de confusión de los datos de test.\n",
    "- ¿Cuántos ejemplos ha clasificado bien el modelo?\n",
    "- ¿Cuántos ejemplos ha clasificado de manera errónea?"
   ]
  },
  {
   "cell_type": "code",
   "execution_count": 19,
   "id": "0f6e0a04",
   "metadata": {},
   "outputs": [
    {
     "name": "stdout",
     "output_type": "stream",
     "text": [
      "Clasificaciones Correctas: 69320\n",
      "Clasificaciones Incorrectas: 10680\n"
     ]
    }
   ],
   "source": [
    "# Calcular la matriz de confusión\n",
    "from sklearn.metrics import confusion_matrix\n",
    "conf_matrix = confusion_matrix(y_test, y_pred)\n",
    "conf_matrix\n",
    "# Número de clasificaciones correctas (suma de la diagonal principal)\n",
    "correctas = conf_matrix.diagonal().sum()\n",
    "\n",
    "# Número total de clasificaciones (suma de todos los valores de la matriz)\n",
    "total_clasificaciones = conf_matrix.sum()\n",
    "\n",
    "# Número de clasificaciones incorrectas\n",
    "incorrectas = total_clasificaciones - correctas\n",
    "\n",
    "print(f\"Clasificaciones Correctas: {correctas}\")\n",
    "print(f\"Clasificaciones Incorrectas: {incorrectas}\")"
   ]
  },
  {
   "cell_type": "markdown",
   "id": "62fd1a6f-4e6d-4656-8af7-faf5f2468789",
   "metadata": {},
   "source": [
    "Clasificaciones Correctas: 69320\n",
    "Clasificaciones Incorrectas: 10680"
   ]
  },
  {
   "cell_type": "markdown",
   "id": "b08b873b",
   "metadata": {},
   "source": [
    "Visualiza los valores de precision, recall, f1 para cada una de las clases. \n",
    "- ¿Clasifica de igual manera todas las clases o hay alguna para la que el modelo tiene una mayor capacidad predictiva?"
   ]
  },
  {
   "cell_type": "code",
   "execution_count": 20,
   "id": "61426541",
   "metadata": {},
   "outputs": [
    {
     "name": "stdout",
     "output_type": "stream",
     "text": [
      "Precision por clase: [0.8578319  0.87809326 0.67924528 0.88528389 0.82707622 0.69687163\n",
      " 0.91863208]\n",
      "Recall por clase: [0.61373536 0.96532019 0.65569918 0.87917146 0.70275495 0.75335277\n",
      " 0.90318841]\n",
      "F1-score por clase: [0.71553885 0.91964302 0.66726457 0.88221709 0.75986412 0.72401233\n",
      " 0.91084478]\n"
     ]
    }
   ],
   "source": [
    "from sklearn.metrics import precision_score, recall_score, f1_score\n",
    "\n",
    "# Calcular precisión, recall y F1-score para cada clase\n",
    "precision = precision_score(y_test, y_pred, average=None)\n",
    "recall = recall_score(y_test, y_pred, average=None)\n",
    "f1 = f1_score(y_test, y_pred, average=None)\n",
    "\n",
    "# Imprimir los resultados\n",
    "print(\"Precision por clase:\", precision)\n",
    "print(\"Recall por clase:\", recall)\n",
    "print(\"F1-score por clase:\", f1)"
   ]
  },
  {
   "cell_type": "markdown",
   "id": "50c21e84-8308-48a6-a45b-80d10225f213",
   "metadata": {},
   "source": [
    "- Las precisiones más altas son la clase 7 y 4 = cuando el modelo predice estas clases, es muy probable que esté en lo correcto.\n",
    "- La precisión más baja es la clase 3 con mayor propensión a cometer errores.\n",
    "- La clase 2 tiene el recall más alto = El modelo es muy bueno detectando esta clase cuando realmente es la clase correcta.\n",
    "- Recall más bajo es la clase 1 = Dificultades para detectar esta clase correctamente.\n",
    "- La clase 7 también tiene el F1-score más alto = buen equilibrio entre precisión y recall para esta clase.\n",
    "- La clase 1 tiene el F1-score más bajo = rendimiento general más pobre."
   ]
  },
  {
   "cell_type": "markdown",
   "id": "c0629d8f",
   "metadata": {},
   "source": [
    "**Comparativa**\n",
    "\n",
    "En base al EDA realizado, a las decisiones tomadas sobre los datos e hiperparámetros y a las características computacionales de tu equipo. ¿Qué modelo obtiene mejores resultados de clasificación?"
   ]
  },
  {
   "cell_type": "markdown",
   "id": "571faf9e-feb3-424b-93f8-c0e0383b88be",
   "metadata": {},
   "source": [
    "Los modelos SVM muestran una precisión generalmente más alta en comparación con los modelos de Random Forest para las configuraciones de hiperparámetros proporcionadas. SVM con C=1000 obtiene la mejor precisión (87.4%), superando a todas las configuraciones de Random Forest evaluadas, cuya máxima precisión fue de (68.4%) con 50 árboles. También es importante considerar las implicaciones computacionales. Modelos SVM con valores altos de C y grandes conjuntos de datos pueden ser computacionalmente más exigentes.\n",
    "Las métricas detalladas (precisión por clase, recall y F1-score) para el mejor modelo SVM muestran un rendimiento notablemente alto en varias clases, destacándose especialmente en las clases con mayor dificultad (como se evidencia por los valores altos de recall y F1-score en clases minoritarias o más difíciles de predecir)."
   ]
  },
  {
   "cell_type": "markdown",
   "id": "2d756202",
   "metadata": {},
   "source": [
    "### Investigación\n",
    "\n",
    "Buscar un artículo científico (https://scholar.google.es/) con un caso de uso de clasificación empleando una de las dos técnicas (o ambas) vistas en la actividad. Los artículos deben estar en revistas científicas, y deben ser posteriores a 2015. No debe utilizar técnicas de Deep Learning."
   ]
  },
  {
   "cell_type": "markdown",
   "id": "5da25f3b",
   "metadata": {},
   "source": [
    "_introduce aquí la referencia APA del artículo_\n",
    "\n",
    "título, autores, revista, año de publicación\n",
    "\n",
    "Objetivo: cuál es el objetivo de la investigación, es decir a qué problema real está aplicando la clasificación.\n",
    "Técnicas de clasificación empleadas y si realiza alguna adaptación.\n",
    "Principales resultados de la aplicación y de la investigación."
   ]
  },
  {
   "cell_type": "markdown",
   "id": "b230ed05-690a-43cc-9e56-c1092a0bd4da",
   "metadata": {},
   "source": [
    "- Jan, S. U., Lee, Y. D., Shin, J., & Koo, I. (2017). Sensor fault classification based on support vector machine and statistical time-domain features. IEEE Access, 5, 8682-8690."
   ]
  },
  {
   "cell_type": "markdown",
   "id": "b893c0e2-50b1-49e7-9dee-3f408352693b",
   "metadata": {},
   "source": [
    "- El objetivo principal de la investigación es abordar el problema de detección y diagnóstico de fallas en sensores, específicamente fallas erráticas, de deriva, duras, de pico y atascadas, mediante la clasificación de datos.\n",
    "- Se utilizó SVM con una estrategia de clasificación uno-contra-el-resto y se extrajeron características estadísticas en el dominio del tiempo de las muestras.\n",
    "- Se varió el número de características de 5 a 10 para examinar su efecto en la precisión, empleando tres funciones de kernel diferentes: lineal, polinomial y de base radial.\n",
    "- Los resultados destacan que aumentar el número de características de 5 a 10 no incrementa significativamente la precisión total del clasificador, pero usar diez características ofrece la mayor precisión para la clasificación de fallas con SVM. Además, aumentar el número de muestras de entrenamiento de 40 a 60 provocó un problema de sobreajuste, solucionado mediante la técnica de validación cruzada k-fold."
   ]
  }
 ],
 "metadata": {
  "kernelspec": {
   "display_name": "Python 3 (ipykernel)",
   "language": "python",
   "name": "python3"
  },
  "language_info": {
   "codemirror_mode": {
    "name": "ipython",
    "version": 3
   },
   "file_extension": ".py",
   "mimetype": "text/x-python",
   "name": "python",
   "nbconvert_exporter": "python",
   "pygments_lexer": "ipython3",
   "version": "3.11.5"
  }
 },
 "nbformat": 4,
 "nbformat_minor": 5
}
